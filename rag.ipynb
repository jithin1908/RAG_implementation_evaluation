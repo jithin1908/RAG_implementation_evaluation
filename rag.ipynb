{
 "cells": [
  {
   "cell_type": "code",
   "execution_count": 1,
   "id": "0762a1a1-e469-41a2-91c5-2105b420b400",
   "metadata": {},
   "outputs": [
    {
     "name": "stderr",
     "output_type": "stream",
     "text": [
      "C:\\Users\\jithi\\AppData\\Local\\Programs\\Python\\Python39\\lib\\site-packages\\scipy\\__init__.py:177: UserWarning: A NumPy version >=1.18.5 and <1.26.0 is required for this version of SciPy (detected version 1.26.4\n",
      "  warnings.warn(f\"A NumPy version >={np_minversion} and <{np_maxversion}\"\n",
      "[nltk_data] Downloading package stopwords to\n",
      "[nltk_data]     C:\\Users\\jithi\\AppData\\Roaming\\nltk_data...\n",
      "[nltk_data]   Package stopwords is already up-to-date!\n",
      "[nltk_data] Downloading package wordnet to\n",
      "[nltk_data]     C:\\Users\\jithi\\AppData\\Roaming\\nltk_data...\n",
      "[nltk_data]   Package wordnet is already up-to-date!\n"
     ]
    }
   ],
   "source": [
    "import pandas as pd\n",
    "import faiss\n",
    "import numpy as np\n",
    "from sklearn.preprocessing import normalize\n",
    "from transformers import BertTokenizer, BertModel\n",
    "import torch\n",
    "import re\n",
    "from nltk.corpus import stopwords\n",
    "from nltk.stem import WordNetLemmatizer\n",
    "import nltk\n",
    "\n",
    "# Download required resources\n",
    "nltk.download('stopwords')\n",
    "nltk.download('wordnet')\n",
    "from langchain_core.prompts import PromptTemplate\n",
    "from transformers import GPT2LMHeadModel, GPT2Tokenizer\n"
   ]
  },
  {
   "cell_type": "code",
   "execution_count": 2,
   "id": "0c231b54-d7b5-4867-9dba-667198831242",
   "metadata": {},
   "outputs": [],
   "source": [
    "data=pd.read_csv(r\"C:\\Users\\jithi\\Downloads\\conversational_dataset.csv\")"
   ]
  },
  {
   "cell_type": "code",
   "execution_count": 3,
   "id": "b69ff4f8-0f18-4870-a7ad-d7989e6a2e31",
   "metadata": {},
   "outputs": [
    {
     "data": {
      "text/html": [
       "<div>\n",
       "<style scoped>\n",
       "    .dataframe tbody tr th:only-of-type {\n",
       "        vertical-align: middle;\n",
       "    }\n",
       "\n",
       "    .dataframe tbody tr th {\n",
       "        vertical-align: top;\n",
       "    }\n",
       "\n",
       "    .dataframe thead th {\n",
       "        text-align: right;\n",
       "    }\n",
       "</style>\n",
       "<table border=\"1\" class=\"dataframe\">\n",
       "  <thead>\n",
       "    <tr style=\"text-align: right;\">\n",
       "      <th></th>\n",
       "      <th>Unnamed: 0</th>\n",
       "      <th>Question</th>\n",
       "      <th>Answer</th>\n",
       "    </tr>\n",
       "  </thead>\n",
       "  <tbody>\n",
       "    <tr>\n",
       "      <th>0</th>\n",
       "      <td>0</td>\n",
       "      <td>can you recommend effective core ab exercises?</td>\n",
       "      <td>sure! planks, bicycle crunches, and leg raises...</td>\n",
       "    </tr>\n",
       "    <tr>\n",
       "      <th>1</th>\n",
       "      <td>1</td>\n",
       "      <td>how can i incorporate physical activity into m...</td>\n",
       "      <td>take the stairs instead of the elevator whenev...</td>\n",
       "    </tr>\n",
       "    <tr>\n",
       "      <th>2</th>\n",
       "      <td>2</td>\n",
       "      <td>why is physical activity important?</td>\n",
       "      <td>regular physical activity can help maintain yo...</td>\n",
       "    </tr>\n",
       "    <tr>\n",
       "      <th>3</th>\n",
       "      <td>3</td>\n",
       "      <td>how can i manage stress and maintain a healthy...</td>\n",
       "      <td>move your body. exercise regularly and engage ...</td>\n",
       "    </tr>\n",
       "    <tr>\n",
       "      <th>4</th>\n",
       "      <td>4</td>\n",
       "      <td>i have a busy travel schedule. how can i maint...</td>\n",
       "      <td>travel can disrupt routines, but it's manageab...</td>\n",
       "    </tr>\n",
       "    <tr>\n",
       "      <th>...</th>\n",
       "      <td>...</td>\n",
       "      <td>...</td>\n",
       "      <td>...</td>\n",
       "    </tr>\n",
       "    <tr>\n",
       "      <th>960</th>\n",
       "      <td>960</td>\n",
       "      <td>is 10 minutes of stretching enough?</td>\n",
       "      <td>if youre warming up for a workout, 5 to 10 min...</td>\n",
       "    </tr>\n",
       "    <tr>\n",
       "      <th>961</th>\n",
       "      <td>961</td>\n",
       "      <td>should stretching be painful?</td>\n",
       "      <td>its normal to feel mild to moderate discomfort...</td>\n",
       "    </tr>\n",
       "    <tr>\n",
       "      <th>962</th>\n",
       "      <td>962</td>\n",
       "      <td>is there a wrong way to stretch?</td>\n",
       "      <td>regularly stretching to the point of pain, try...</td>\n",
       "    </tr>\n",
       "    <tr>\n",
       "      <th>963</th>\n",
       "      <td>963</td>\n",
       "      <td>is it okay to stretch every day?</td>\n",
       "      <td>not only is it okay to stretch every day, its ...</td>\n",
       "    </tr>\n",
       "    <tr>\n",
       "      <th>964</th>\n",
       "      <td>964</td>\n",
       "      <td>what does stretching do to my body?</td>\n",
       "      <td>in general, stretching involves moving or hold...</td>\n",
       "    </tr>\n",
       "  </tbody>\n",
       "</table>\n",
       "<p>965 rows × 3 columns</p>\n",
       "</div>"
      ],
      "text/plain": [
       "     Unnamed: 0                                           Question  \\\n",
       "0             0     can you recommend effective core ab exercises?   \n",
       "1             1  how can i incorporate physical activity into m...   \n",
       "2             2                why is physical activity important?   \n",
       "3             3  how can i manage stress and maintain a healthy...   \n",
       "4             4  i have a busy travel schedule. how can i maint...   \n",
       "..          ...                                                ...   \n",
       "960         960                is 10 minutes of stretching enough?   \n",
       "961         961                      should stretching be painful?   \n",
       "962         962                   is there a wrong way to stretch?   \n",
       "963         963                   is it okay to stretch every day?   \n",
       "964         964                what does stretching do to my body?   \n",
       "\n",
       "                                                Answer  \n",
       "0    sure! planks, bicycle crunches, and leg raises...  \n",
       "1    take the stairs instead of the elevator whenev...  \n",
       "2    regular physical activity can help maintain yo...  \n",
       "3    move your body. exercise regularly and engage ...  \n",
       "4    travel can disrupt routines, but it's manageab...  \n",
       "..                                                 ...  \n",
       "960  if youre warming up for a workout, 5 to 10 min...  \n",
       "961  its normal to feel mild to moderate discomfort...  \n",
       "962  regularly stretching to the point of pain, try...  \n",
       "963  not only is it okay to stretch every day, its ...  \n",
       "964  in general, stretching involves moving or hold...  \n",
       "\n",
       "[965 rows x 3 columns]"
      ]
     },
     "execution_count": 3,
     "metadata": {},
     "output_type": "execute_result"
    }
   ],
   "source": [
    "data"
   ]
  },
  {
   "cell_type": "code",
   "execution_count": 4,
   "id": "aeb78f2c-f14b-40b7-9fb9-872339632efe",
   "metadata": {},
   "outputs": [],
   "source": [
    "df=data"
   ]
  },
  {
   "cell_type": "code",
   "execution_count": 5,
   "id": "b6d96e0c-071b-4c88-9406-5177287a8b51",
   "metadata": {},
   "outputs": [],
   "source": [
    "questions = df['Question'].tolist()\n",
    "answers = df['Answer'].tolist()\n",
    "\n",
    "# Step 2: Load Stop Words and Initialize Lemmatizer\n",
    "stop_words = set(stopwords.words('english'))\n",
    "lemmatizer = WordNetLemmatizer()\n",
    "\n",
    "# Step 3: Preprocessing Function\n",
    "def preprocess_text(text):\n",
    "    # Lowercase the text\n",
    "    text = text.lower()\n",
    "    # Remove punctuation\n",
    "    text = re.sub(r'[^\\w\\s]', '', text)\n",
    "    # Tokenize the text\n",
    "    words = text.split()\n",
    "    # Remove stopwords and lemmatize\n",
    "    words = [lemmatizer.lemmatize(word) for word in words if word not in stop_words]\n",
    "    # Join words back into a single string\n",
    "    return ' '.join(words)\n",
    "\n",
    "# Apply preprocessing to questions\n",
    "preprocessed_questions = [preprocess_text(question) for question in questions]\n"
   ]
  },
  {
   "cell_type": "code",
   "execution_count": 6,
   "id": "83058777-cf74-4bc4-aec7-cec9233f2250",
   "metadata": {},
   "outputs": [
    {
     "data": {
      "application/vnd.jupyter.widget-view+json": {
       "model_id": "445d70e160414c4fb0ef635e2eac4b02",
       "version_major": 2,
       "version_minor": 0
      },
      "text/plain": [
       "tokenizer.json:   0%|          | 0.00/466k [00:00<?, ?B/s]"
      ]
     },
     "metadata": {},
     "output_type": "display_data"
    },
    {
     "name": "stderr",
     "output_type": "stream",
     "text": [
      "C:\\Users\\jithi\\AppData\\Local\\Programs\\Python\\Python39\\lib\\site-packages\\huggingface_hub\\file_download.py:157: UserWarning: `huggingface_hub` cache-system uses symlinks by default to efficiently store duplicated files but your machine does not support them in C:\\Users\\jithi\\.cache\\huggingface\\hub\\models--bert-base-uncased. Caching files will still work but in a degraded version that might require more space on your disk. This warning can be disabled by setting the `HF_HUB_DISABLE_SYMLINKS_WARNING` environment variable. For more details, see https://huggingface.co/docs/huggingface_hub/how-to-cache#limitations.\n",
      "To support symlinks on Windows, you either need to activate Developer Mode or to run Python as an administrator. In order to see activate developer mode, see this article: https://docs.microsoft.com/en-us/windows/apps/get-started/enable-your-device-for-development\n",
      "  warnings.warn(message)\n"
     ]
    },
    {
     "data": {
      "application/vnd.jupyter.widget-view+json": {
       "model_id": "ab74afafdd204431822207928033d09a",
       "version_major": 2,
       "version_minor": 0
      },
      "text/plain": [
       "model.safetensors:   0%|          | 0.00/440M [00:00<?, ?B/s]"
      ]
     },
     "metadata": {},
     "output_type": "display_data"
    }
   ],
   "source": [
    "\n",
    "# Step 4: Initialize the BERT Tokenizer and Model\n",
    "tokenizer = BertTokenizer.from_pretrained('bert-base-uncased')\n",
    "model = BertModel.from_pretrained('bert-base-uncased')\n"
   ]
  },
  {
   "cell_type": "code",
   "execution_count": 7,
   "id": "35491f99-6543-47d9-a2e0-e7be523c105f",
   "metadata": {},
   "outputs": [],
   "source": [
    "\n",
    "# Step 5: Function to Encode Questions into BERT Embeddings\n",
    "def encode_questions(questions):\n",
    "    embeddings = []\n",
    "    for question in questions:\n",
    "        inputs = tokenizer(question, return_tensors='pt', padding=True, truncation=True)\n",
    "        with torch.no_grad():\n",
    "            outputs = model(**inputs)\n",
    "            # Use the mean of the last hidden state\n",
    "            embeddings.append(outputs.last_hidden_state.mean(dim=1).numpy())\n",
    "    return embeddings"
   ]
  },
  {
   "cell_type": "code",
   "execution_count": 8,
   "id": "e2d7caa3-2fba-47b4-90b2-a911aef1b2c2",
   "metadata": {},
   "outputs": [],
   "source": [
    "# Step 6: Encode and Normalize the Preprocessed Question Embeddings\n",
    "question_embeddings = encode_questions(preprocessed_questions)\n",
    "normalized_embeddings = normalize(np.vstack(question_embeddings))  # Normalize embeddings"
   ]
  },
  {
   "cell_type": "code",
   "execution_count": 9,
   "id": "2e68dfbb-f601-485b-87d8-758c9b8a6ba5",
   "metadata": {},
   "outputs": [],
   "source": [
    "# Step 7: Create a FAISS Index Using Inner Product (Cosine Similarity)\n",
    "index = faiss.IndexFlatIP(normalized_embeddings.shape[1])  # Inner Product index for cosine similarity\n",
    "index.add(normalized_embeddings)  # Add normalized question embeddings to FAISS index"
   ]
  },
  {
   "cell_type": "code",
   "execution_count": 10,
   "id": "a2f080bd-65d8-4592-bdbe-46d46f97c794",
   "metadata": {},
   "outputs": [
    {
     "name": "stdout",
     "output_type": "stream",
     "text": [
      "FAISS index saved successfully.\n"
     ]
    }
   ],
   "source": [
    "# Save the FAISS index to a file\n",
    "faiss.write_index(index, 'faiss_index.index')  # Specify the file name and path\n",
    "print(\"FAISS index saved successfully.\")"
   ]
  },
  {
   "cell_type": "code",
   "execution_count": 11,
   "id": "a04d6db7-c4e4-49ea-b52d-ebb5faa3562f",
   "metadata": {},
   "outputs": [],
   "source": [
    "# Step 8: Search Function Returning Cosine Similarity Scores\n",
    "def search(query, k=5):\n",
    "    # Preprocess and encode the query\n",
    "    preprocessed_query = preprocess_text(query)\n",
    "    query_embedding = encode_questions([preprocessed_query])[0]\n",
    "    normalized_query = normalize(query_embedding.reshape(1, -1))  # Normalize the query embedding\n",
    "    D, I = index.search(normalized_query, k)  # Perform the search\n",
    "\n",
    "    # Retrieve the top-k answers along with their cosine similarity scores\n",
    "    results = [(questions[i],answers[i],D[0][idx]) for idx, i in enumerate(I[0])]\n",
    "    return results"
   ]
  },
  {
   "cell_type": "code",
   "execution_count": 23,
   "id": "b865ed0a-92f0-4480-8061-e491b210c0fa",
   "metadata": {},
   "outputs": [
    {
     "name": "stdout",
     "output_type": "stream",
     "text": [
      "Question: how can i improve my flexibility?\n",
      "Answer: stretch regularly, practice yoga, and incorporate dynamic stretches before workouts.\n",
      "Cosine Similarity: 1.0000001192092896\n",
      "\n",
      "Question: how can i improve flexibility?\n",
      "Answer: flexibility improves with consistency. dynamic stretches before workouts and static stretches after, help. you can also try yoga or pilates. breathe deeply and be patient. over time, flexibility will increase.\n",
      "Cosine Similarity: 1.0000001192092896\n",
      "\n",
      "Question: how can i improve my flexibility if i'm not very flexible?\n",
      "Answer: improving flexibility starts with gentle stretching exercises targeting major muscle groups. you can try basic stretches like toe touches, shoulder rolls, and hamstring stretches. yoga or pilates classes designed for beginners can also be helpful. consistency is key, so aim to stretch regularly and listen to your body's limits.\n",
      "Cosine Similarity: 0.8801306486129761\n",
      "\n",
      "Question: how can i improve my posture?\n",
      "Answer: good posture is essential. strengthen core muscles with exercises like planks and bridges. be mindful of your sitting and standing positions. consider yoga or pilates to enhance flexibility and alignment.\n",
      "Cosine Similarity: 0.8744573593139648\n",
      "\n",
      "Question: how can i improve my balance?\n",
      "Answer: you can improve your balance by doing activities like walking, which strengthen your legs and help you feel steadier on your feet.\n",
      "Cosine Similarity: 0.8580909371376038\n",
      "\n"
     ]
    }
   ],
   "source": [
    "# Example Usage\n",
    "query = \"how can i improve flexibility\"\n",
    "results = search(query)\n",
    "qa=[]\n",
    "# Display the Top 3 Results with Cosine Similarity Scores\n",
    "for question, answer, score in results:\n",
    "    print(f\"Question: {question}\\nAnswer: {answer}\\nCosine Similarity: {score}\\n\")\n",
    "    qa.append(f\"Question: {question}\\nAnswer: {answer}\")"
   ]
  },
  {
   "cell_type": "code",
   "execution_count": 27,
   "id": "0efc09d6-cc35-4307-9bb6-094bd8c8880a",
   "metadata": {},
   "outputs": [
    {
     "data": {
      "text/plain": [
       "['Question: how can i improve my flexibility?\\nAnswer: stretch regularly, practice yoga, and incorporate dynamic stretches before workouts.',\n",
       " 'Question: how can i improve flexibility?\\nAnswer: flexibility improves with consistency. dynamic stretches before workouts and static stretches after, help. you can also try yoga or pilates. breathe deeply and be patient. over time, flexibility will increase.',\n",
       " \"Question: how can i improve my flexibility if i'm not very flexible?\\nAnswer: improving flexibility starts with gentle stretching exercises targeting major muscle groups. you can try basic stretches like toe touches, shoulder rolls, and hamstring stretches. yoga or pilates classes designed for beginners can also be helpful. consistency is key, so aim to stretch regularly and listen to your body's limits.\",\n",
       " 'Question: how can i improve my posture?\\nAnswer: good posture is essential. strengthen core muscles with exercises like planks and bridges. be mindful of your sitting and standing positions. consider yoga or pilates to enhance flexibility and alignment.',\n",
       " 'Question: how can i improve my balance?\\nAnswer: you can improve your balance by doing activities like walking, which strengthen your legs and help you feel steadier on your feet.']"
      ]
     },
     "execution_count": 27,
     "metadata": {},
     "output_type": "execute_result"
    }
   ],
   "source": [
    "qa"
   ]
  },
  {
   "cell_type": "code",
   "execution_count": null,
   "id": "288c7816-547d-4677-b10f-70afd336f1c0",
   "metadata": {},
   "outputs": [],
   "source": [
    "# replace with azure_openai credentials \n",
    "import getpass\n",
    "import os\n",
    "\n",
    "os.environ[\"AZURE_OPENAI_API_KEY\"] = getpass.getpass()\n",
    "\n",
    "from langchain_openai import AzureChatOpenAI\n",
    "\n",
    "llm = AzureChatOpenAI(\n",
    "    azure_endpoint=os.environ[\"AZURE_OPENAI_ENDPOINT\"],\n",
    "    azure_deployment=os.environ[\"AZURE_OPENAI_DEPLOYMENT_NAME\"],\n",
    "    openai_api_version=os.environ[\"AZURE_OPENAI_API_VERSION\"],\n",
    ")"
   ]
  },
  {
   "cell_type": "code",
   "execution_count": null,
   "id": "49dd57bf-4358-4050-9b52-3c21817bcabd",
   "metadata": {},
   "outputs": [],
   "source": [
    "#here we are pasing top 5 retrived arguments in the prompt to the llm model to decide the best one\n",
    "prompt = PromptTemplate.from_template(f\"Use the following list of questions and answers {qa} to answer the question at the end. Pick the most relavent answer based on this user query {query}.\n",
    "If you don't know the answer or the relavent answer not found for the query, just say that you don't know,strictly don't try to make up an answer.\")\n",
    "\n",
    "chain = prompt | llm\n",
    "answer=chain.invoke()"
   ]
  },
  {
   "cell_type": "code",
   "execution_count": null,
   "id": "9a4cb05d-926e-4bc6-8adc-53966151099d",
   "metadata": {},
   "outputs": [],
   "source": [
    "# evaluation is mentioned in separate jupyter notebook file rag_eval"
   ]
  },
  {
   "cell_type": "code",
   "execution_count": null,
   "id": "cf573188-8a1c-4b17-9a1c-742239c8ab4d",
   "metadata": {},
   "outputs": [],
   "source": []
  },
  {
   "cell_type": "code",
   "execution_count": null,
   "id": "11512048-40db-4714-9020-e6e217f51756",
   "metadata": {},
   "outputs": [],
   "source": []
  },
  {
   "cell_type": "code",
   "execution_count": null,
   "id": "331be756-8b1f-403e-a288-7506ca1361f9",
   "metadata": {},
   "outputs": [],
   "source": []
  }
 ],
 "metadata": {
  "kernelspec": {
   "display_name": "Python 3 (ipykernel)",
   "language": "python",
   "name": "python3"
  },
  "language_info": {
   "codemirror_mode": {
    "name": "ipython",
    "version": 3
   },
   "file_extension": ".py",
   "mimetype": "text/x-python",
   "name": "python",
   "nbconvert_exporter": "python",
   "pygments_lexer": "ipython3",
   "version": "3.9.13"
  }
 },
 "nbformat": 4,
 "nbformat_minor": 5
}
